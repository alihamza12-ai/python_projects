{
 "cells": [
  {
   "cell_type": "code",
   "execution_count": 1,
   "metadata": {},
   "outputs": [
    {
     "name": "stdout",
     "output_type": "stream",
     "text": [
      "dazs2yzj\n"
     ]
    }
   ],
   "source": [
    "import random\n",
    "\n",
    "def generate_project_name(length=8):\n",
    "  chars = \"abcdefghijklmnopqrstuvwxyz0123456789\"\n",
    "  return ''.join(random.choice(chars) for _ in range(length))\n",
    "\n",
    "# Example usage:\n",
    "project_name = generate_project_name()\n",
    "print(project_name)"
   ]
  }
 ],
 "metadata": {
  "kernelspec": {
   "display_name": "Python 3",
   "language": "python",
   "name": "python3"
  },
  "language_info": {
   "codemirror_mode": {
    "name": "ipython",
    "version": 3
   },
   "file_extension": ".py",
   "mimetype": "text/x-python",
   "name": "python",
   "nbconvert_exporter": "python",
   "pygments_lexer": "ipython3",
   "version": "3.12.6"
  }
 },
 "nbformat": 4,
 "nbformat_minor": 2
}
