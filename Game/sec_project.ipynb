{
 "cells": [
  {
   "cell_type": "code",
   "execution_count": 11,
   "metadata": {},
   "outputs": [
    {
     "name": "stdout",
     "output_type": "stream",
     "text": [
      "\n",
      "You chose scissors, computer chose scissors.\n",
      "\n",
      "Both players selected scissors. It's a tie!\n"
     ]
    }
   ],
   "source": [
    "import random\n",
    "user_choice = input(\"Enter your choice (rock, paper, or scissors): \")\n",
    "materials = [\"rock\", \"paper\", \"scissors\"]\n",
    "computer_choice = random.choice(materials)\n",
    "\n",
    "print(f\"\\nYou chose {user_choice}, computer chose {computer_choice}.\\n\")\n",
    "if user_choice == computer_choice:\n",
    "    print(f\"Both players selected {user_choice}. It's a tie!\")\n",
    "elif user_choice == \"rock\" and  computer_choice == \"scissors\":\n",
    "      print(\"Rock smashes scissors! You win!\")\n",
    "elif user_choice == \"paper\" and computer_choice == \"rock\":\n",
    "      print(\"Paper covers rock! You win!\")\n",
    "elif user_choice == \"scissors\" and computer_choice == \"paper\":\n",
    "      print(\"Scissors cuts paper! You win!\") \n",
    "elif user_choice == \"paper\" and computer_choice == \"scissors\":\n",
    "    print(\"scissors cuts paper! you lose!\") \n",
    "elif user_choice == \"rock\" and computer_choice == \"paper\":\n",
    "      print(\"paper covers rock you loss\")         "
   ]
  }
 ],
 "metadata": {
  "kernelspec": {
   "display_name": "Python 3",
   "language": "python",
   "name": "python3"
  },
  "language_info": {
   "codemirror_mode": {
    "name": "ipython",
    "version": 3
   },
   "file_extension": ".py",
   "mimetype": "text/x-python",
   "name": "python",
   "nbconvert_exporter": "python",
   "pygments_lexer": "ipython3",
   "version": "3.12.6"
  }
 },
 "nbformat": 4,
 "nbformat_minor": 2
}
