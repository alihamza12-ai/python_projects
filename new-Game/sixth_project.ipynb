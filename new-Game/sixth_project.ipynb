{
 "cells": [
  {
   "cell_type": "code",
   "execution_count": 2,
   "metadata": {},
   "outputs": [
    {
     "name": "stdout",
     "output_type": "stream",
     "text": [
      "I'm thinking of a number between 1 and 100.\n",
      "Too high!\n",
      "Too high!\n"
     ]
    }
   ],
   "source": [
    "import random\n",
    "\n",
    "def play_guessing_game():\n",
    "  \"\"\"\n",
    "  Plays a number guessing game with the user.\n",
    "  \"\"\"\n",
    "  number = random.randint(1, 100)\n",
    "  attempts = 0\n",
    "  \n",
    "  print(\"I'm thinking of a number between 1 and 100.\")\n",
    "\n",
    "  while True:\n",
    "    try:\n",
    "      guess = int(input(\"Take a guess: \"))\n",
    "      attempts += 1\n",
    "\n",
    "      if guess < number:\n",
    "        print(\"Too low!\")\n",
    "      elif guess > number:\n",
    "        print(\"Too high!\")\n",
    "      else:\n",
    "        print(f\"You got it! It took you {attempts} attempts.\")\n",
    "        break\n",
    "    except ValueError:\n",
    "      print(\"Invalid input. Please enter a number.\")\n",
    "\n",
    "if __name__ == \"__main__\":\n",
    "  play_guessing_game()\n"
   ]
  }
 ],
 "metadata": {
  "kernelspec": {
   "display_name": "Python 3",
   "language": "python",
   "name": "python3"
  },
  "language_info": {
   "codemirror_mode": {
    "name": "ipython",
    "version": 3
   },
   "file_extension": ".py",
   "mimetype": "text/x-python",
   "name": "python",
   "nbconvert_exporter": "python",
   "pygments_lexer": "ipython3",
   "version": "3.12.6"
  }
 },
 "nbformat": 4,
 "nbformat_minor": 2
}
