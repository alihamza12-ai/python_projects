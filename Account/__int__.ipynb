{
 "cells": [
  {
   "cell_type": "code",
   "execution_count": 1,
   "metadata": {},
   "outputs": [
    {
     "name": "stdout",
     "output_type": "stream",
     "text": [
      "RS 500 was debit \n",
      "Total balance = 9500\n",
      "Rs 200 was credit \n",
      "Total balance = 9700\n",
      "Rs 400 was credit \n",
      "Total balance = 10100\n"
     ]
    }
   ],
   "source": [
    "class Acount:\n",
    "       \n",
    "        def __init__(self,bal,acc):\n",
    "            self.balance = bal\n",
    "            self.account = acc\n",
    "            \n",
    "        def debit(self,amount):\n",
    "            self.balance -= amount\n",
    "            print(f\"RS {amount} was debit \")\n",
    "            print(f\"Total balance = {self.get_total_balance()}\")\n",
    "            \n",
    "        def credit(self,amount):\n",
    "            self.balance += amount    \n",
    "            print(f\"Rs {amount} was credit \")\n",
    "            print(f\"Total balance = {self.get_total_balance()}\")\n",
    "            \n",
    "        def get_total_balance(self):\n",
    "            return self.balance    \n",
    "                \n",
    "                \n",
    "acc1 = Acount(10000,12345)\n",
    "acc1.debit(500)\n",
    "acc1.credit(200)\n",
    "acc1.credit(400)\n",
    "\n",
    "\n",
    "              "
   ]
  }
 ],
 "metadata": {
  "kernelspec": {
   "display_name": "Python 3",
   "language": "python",
   "name": "python3"
  },
  "language_info": {
   "codemirror_mode": {
    "name": "ipython",
    "version": 3
   },
   "file_extension": ".py",
   "mimetype": "text/x-python",
   "name": "python",
   "nbconvert_exporter": "python",
   "pygments_lexer": "ipython3",
   "version": "3.12.6"
  }
 },
 "nbformat": 4,
 "nbformat_minor": 2
}
