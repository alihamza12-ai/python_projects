{
 "cells": [
  {
   "cell_type": "code",
   "execution_count": 1,
   "metadata": {},
   "outputs": [
    {
     "name": "stdout",
     "output_type": "stream",
     "text": [
      "\n",
      "Welcome to the Recipe App!\n",
      "1. Add a recipe\n",
      "2. View a recipe\n",
      "3. Exit\n",
      "Recipe added successfully!\n",
      "\n",
      "Welcome to the Recipe App!\n",
      "1. Add a recipe\n",
      "2. View a recipe\n",
      "3. Exit\n"
     ]
    }
   ],
   "source": [
    "recipes = {}\n",
    "\n",
    "while True:\n",
    "  print(\"\\nWelcome to the Recipe App!\")\n",
    "  print(\"1. Add a recipe\")\n",
    "  print(\"2. View a recipe\")\n",
    "  print(\"3. Exit\")\n",
    "\n",
    "  choice = input(\"Enter your choice: \")\n",
    "\n",
    "  if choice == '1':\n",
    "    recipe_name = input(\"Enter the recipe name: \")\n",
    "    ingredients = input(\"Enter the ingredients (comma-separated): \").split(',')\n",
    "    instructions = input(\"Enter the instructions: \")\n",
    "    recipes[recipe_name] = {'ingredients': ingredients, 'instructions': instructions}\n",
    "    print(\"Recipe added successfully!\")\n",
    "\n",
    "  elif choice == '2':\n",
    "    recipe_name = input(\"Enter the recipe name to view: \")\n",
    "    if recipe_name in recipes:\n",
    "      print(\"\\nRecipe:\", recipe_name)\n",
    "      print(\"Ingredients:\", recipes[recipe_name]['ingredients'])\n",
    "      print(\"Instructions:\", recipes[recipe_name]['instructions'])\n",
    "    else:\n",
    "      print(\"Recipe not found.\")\n",
    "\n",
    "  elif choice == '3':\n",
    "    print(\"Exiting the app. Goodbye!\")\n",
    "    break\n",
    "\n",
    "  else:\n",
    "    print(\"Invalid choice. Please try again.\")"
   ]
  }
 ],
 "metadata": {
  "kernelspec": {
   "display_name": "Python 3",
   "language": "python",
   "name": "python3"
  },
  "language_info": {
   "codemirror_mode": {
    "name": "ipython",
    "version": 3
   },
   "file_extension": ".py",
   "mimetype": "text/x-python",
   "name": "python",
   "nbconvert_exporter": "python",
   "pygments_lexer": "ipython3",
   "version": "3.12.6"
  }
 },
 "nbformat": 4,
 "nbformat_minor": 2
}
