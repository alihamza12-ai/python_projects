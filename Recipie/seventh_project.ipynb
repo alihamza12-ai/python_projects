{
 "cells": [
  {
   "cell_type": "code",
   "execution_count": null,
   "metadata": {},
   "outputs": [],
   "source": [
    "recipes = {}\n",
    "\n",
    "while True:\n",
    "  print(\"\\nWelcome to the Recipe App!\")\n",
    "  print(\"1. Add a recipe\")\n",
    "  print(\"2. View a recipe\")\n",
    "  print(\"3. Exit\")\n",
    "\n",
    "  choice = input(\"Enter your choice: \")\n",
    "\n",
    "  if choice == '1':\n",
    "    recipe_name = input(\"Enter the recipe name: \")\n",
    "    ingredients = input(\"Enter the ingredients (comma-separated): \").split(',')\n",
    "    instructions = input(\"Enter the instructions: \")\n",
    "    recipes[recipe_name] = {'ingredients': ingredients, 'instructions': instructions}\n",
    "    print(\"Recipe added successfully!\")\n",
    "\n",
    "  elif choice == '2':\n",
    "    recipe_name = input(\"Enter the recipe name to view: \")\n",
    "    if recipe_name in recipes:\n",
    "      print(\"\\nRecipe:\", recipe_name)\n",
    "      print(\"Ingredients:\", recipes[recipe_name]['ingredients'])\n",
    "      print(\"Instructions:\", recipes[recipe_name]['instructions'])\n",
    "    else:\n",
    "      print(\"Recipe not found.\")\n",
    "\n",
    "  elif choice == '3':\n",
    "    print(\"Exiting the app. Goodbye!\")\n",
    "    break\n",
    "\n",
    "  else:\n",
    "    print(\"Invalid choice. Please try again.\")"
   ]
  }
 ],
 "metadata": {
  "language_info": {
   "name": "python"
  }
 },
 "nbformat": 4,
 "nbformat_minor": 2
}
