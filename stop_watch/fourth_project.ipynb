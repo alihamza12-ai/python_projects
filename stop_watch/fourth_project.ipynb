{
 "cells": [
  {
   "cell_type": "code",
   "execution_count": 2,
   "metadata": {},
   "outputs": [
    {
     "name": "stdout",
     "output_type": "stream",
     "text": [
      "Elapsed time: 3.6233110427856445 seconds\n"
     ]
    }
   ],
   "source": [
    "import time\n",
    "input(\"Press Enter to start the stopwatch...\")\n",
    "start_time = time.time()\n",
    "input(\"Press Enter to stop the stopwatch...\")\n",
    "end_time = time.time()\n",
    "elapsed_time = end_time - start_time\n",
    "print(\"Elapsed time:\", elapsed_time, \"seconds\")"
   ]
  },
  {
   "cell_type": "code",
   "execution_count": 7,
   "metadata": {},
   "outputs": [
    {
     "name": "stdout",
     "output_type": "stream",
     "text": [
      "1.2490930557250977\n"
     ]
    }
   ],
   "source": [
    "import time\n",
    "input(\"Press Enter to start the stopwatch...\")\n",
    "start_time = time.time()\n",
    "input(\"Press Enter to stop the stopwatch...\")\n",
    "end_time = time.time()\n",
    "elapsed_time = end_time - start_time\n",
    "print(elapsed_time)"
   ]
  }
 ],
 "metadata": {
  "kernelspec": {
   "display_name": "Python 3",
   "language": "python",
   "name": "python3"
  },
  "language_info": {
   "codemirror_mode": {
    "name": "ipython",
    "version": 3
   },
   "file_extension": ".py",
   "mimetype": "text/x-python",
   "name": "python",
   "nbconvert_exporter": "python",
   "pygments_lexer": "ipython3",
   "version": "3.12.6"
  }
 },
 "nbformat": 4,
 "nbformat_minor": 2
}
