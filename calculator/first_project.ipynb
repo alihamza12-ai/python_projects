{
 "cells": [
  {
   "cell_type": "code",
   "execution_count": null,
   "metadata": {},
   "outputs": [],
   "source": [
    "  \"\"\"\n",
    "  A simple calculator that performs basic arithmetic operations.\n",
    "  \"\"\"\n",
    "  num1 = float(input(\"Enter the first number: \"))\n",
    "  operator = input(\"Enter the operator (+, -, *, /): \")\n",
    "  num2 = float(input(\"Enter the second number: \"))\n",
    "\n",
    "  if operator == \"+\":\n",
    "    result = num1 + num2\n",
    "  elif operator == \"-\":\n",
    "    result = num1 - num2\n",
    "  elif operator == \"*\":\n",
    "    result = num1 * num2\n",
    "  elif operator == \"/\":\n",
    "    result = num1 / num2\n",
    "  else:\n",
    "    print(\"Not Found\") \n",
    "  print(\"Result:\", result) "
   ]
  }
 ],
 "metadata": {
  "language_info": {
   "name": "python"
  }
 },
 "nbformat": 4,
 "nbformat_minor": 2
}
