{
 "cells": [
  {
   "cell_type": "code",
   "execution_count": 2,
   "metadata": {},
   "outputs": [
    {
     "name": "stdout",
     "output_type": "stream",
     "text": [
      "Result: 42.0\n"
     ]
    }
   ],
   "source": [
    "  \"\"\"\n",
    "  A simple calculator that performs basic arithmetic operations.\n",
    "  \"\"\"\n",
    "  num1 = float(input(\"Enter the first number: \"))\n",
    "  operator = input(\"Enter the operator (+, -, *, /): \")\n",
    "  num2 = float(input(\"Enter the second number: \"))\n",
    "\n",
    "  if operator == \"+\":\n",
    "    result = num1 + num2\n",
    "  elif operator == \"-\":\n",
    "    result = num1 - num2\n",
    "  elif operator == \"*\":\n",
    "    result = num1 * num2\n",
    "  elif operator == \"/\":\n",
    "    result = num1 / num2\n",
    "  else:\n",
    "    print(\"Not Found\") \n",
    "  print(\"Result:\", result) "
   ]
  }
 ],
 "metadata": {
  "kernelspec": {
   "display_name": "Python 3",
   "language": "python",
   "name": "python3"
  },
  "language_info": {
   "codemirror_mode": {
    "name": "ipython",
    "version": 3
   },
   "file_extension": ".py",
   "mimetype": "text/x-python",
   "name": "python",
   "nbconvert_exporter": "python",
   "pygments_lexer": "ipython3",
   "version": "3.12.6"
  }
 },
 "nbformat": 4,
 "nbformat_minor": 2
}
