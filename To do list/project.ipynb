{
 "cells": [
  {
   "cell_type": "code",
   "execution_count": 1,
   "metadata": {},
   "outputs": [
    {
     "name": "stdout",
     "output_type": "stream",
     "text": [
      "Options:\n",
      "1. Add a task\n",
      "2. View tasks\n",
      "3. Remove a task\n",
      "4. Exit\n",
      "Your to-do list is empty.\n",
      "\n",
      "Options:\n",
      "1. Add a task\n",
      "2. View tasks\n",
      "3. Remove a task\n",
      "4. Exit\n",
      "Invalid choice. Please choose a valid option.\n",
      "\n",
      "Options:\n",
      "1. Add a task\n",
      "2. View tasks\n",
      "3. Remove a task\n",
      "4. Exit\n",
      "Your to-do list is empty.\n",
      "\n"
     ]
    }
   ],
   "source": [
    "# Simple To-Do List Application\n",
    "\n",
    "def display_tasks(tasks):\n",
    "    if not tasks:\n",
    "        print(\"Your to-do list is empty.\")\n",
    "    else:\n",
    "        print(\"\\nTo-Do List:\")\n",
    "        for idx, task in enumerate(tasks, start=1):\n",
    "            print(f\"{idx}. {task}\")\n",
    "    print()\n",
    "\n",
    "def main():\n",
    "    tasks = []\n",
    "\n",
    "    while True:\n",
    "        print(\"Options:\")\n",
    "        print(\"1. Add a task\")\n",
    "        print(\"2. View tasks\")\n",
    "        print(\"3. Remove a task\")\n",
    "        print(\"4. Exit\")\n",
    "\n",
    "        choice = input(\"Choose an option (1-4): \")\n",
    "\n",
    "        if choice == '1':\n",
    "            task = input(\"Enter the task: \")\n",
    "            tasks.append(task)\n",
    "            print(f'Task \"{task}\" added!\\n')\n",
    "\n",
    "        elif choice == '2':\n",
    "            display_tasks(tasks)\n",
    "\n",
    "        elif choice == '3':\n",
    "            display_tasks(tasks)\n",
    "            try:\n",
    "                task_num = int(input(\"Enter the task number to remove: \"))\n",
    "                if 1 <= task_num <= len(tasks):\n",
    "                    removed_task = tasks.pop(task_num - 1)\n",
    "                    print(f'Task \"{removed_task}\" removed!\\n')\n",
    "                else:\n",
    "                    print(\"Invalid task number.\\n\")\n",
    "            except ValueError:\n",
    "                print(\"Please enter a valid number.\\n\")\n",
    "\n",
    "        elif choice == '4':\n",
    "            print(\"Exiting the application. Goodbye!\")\n",
    "            break\n",
    "\n",
    "        else:\n",
    "            print(\"Invalid choice. Please choose a valid option.\\n\")\n",
    "\n",
    "if __name__ == \"__main__\":\n",
    "    main()\n"
   ]
  }
 ],
 "metadata": {
  "kernelspec": {
   "display_name": "Python 3",
   "language": "python",
   "name": "python3"
  },
  "language_info": {
   "codemirror_mode": {
    "name": "ipython",
    "version": 3
   },
   "file_extension": ".py",
   "mimetype": "text/x-python",
   "name": "python",
   "nbconvert_exporter": "python",
   "pygments_lexer": "ipython3",
   "version": "3.12.6"
  }
 },
 "nbformat": 4,
 "nbformat_minor": 2
}
